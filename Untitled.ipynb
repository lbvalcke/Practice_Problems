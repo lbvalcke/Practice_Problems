{
 "cells": [
  {
   "cell_type": "code",
   "execution_count": 2,
   "metadata": {},
   "outputs": [
    {
     "name": "stdout",
     "output_type": "stream",
     "text": [
      "2\n",
      "hello\n",
      "world\n",
      "{'h': 1, 'e': 1, 'l': 2, 'o': 1}\n",
      "w\n",
      "o\n",
      "Yes\n",
      "hi\n",
      "world\n",
      "{'h': 1, 'i': 1}\n",
      "w\n",
      "o\n",
      "r\n",
      "l\n",
      "d\n",
      "No\n"
     ]
    }
   ],
   "source": [
    "#!/bin/python3\n",
    "\n",
    "import math\n",
    "import os\n",
    "import random\n",
    "import re\n",
    "import sys\n",
    "\n",
    "# Complete the twoStrings function below.\n",
    "def twoStrings(s1, s2):\n",
    "    s1_dict = {}\n",
    "    common = []\n",
    "    for character in [ch for ch in s1]:\n",
    "        if character not in s1_dict:\n",
    "            s1_dict[character] = 1\n",
    "        else:\n",
    "            s1_dict[character] += 1\n",
    "\n",
    "    for character in [ch for ch in s2]:\n",
    "        if character in s1_dict:\n",
    "            return 'Yes'\n",
    "    return 'No'\n",
    "        \n",
    "if __name__ == '__main__':\n",
    "#    fptr = open(os.environ['OUTPUT_PATH'], 'w')\n",
    "\n",
    "    q = int(input())\n",
    "\n",
    "    for q_itr in range(q):\n",
    "        s1 = input()\n",
    "\n",
    "        s2 = input()\n",
    "\n",
    "        result = twoStrings(s1, s2)\n",
    "        print(result)\n",
    "#        fptr.write(result + '\\n')\n",
    "\n",
    "#    fptr.close()\n"
   ]
  },
  {
   "cell_type": "code",
   "execution_count": null,
   "metadata": {},
   "outputs": [],
   "source": []
  }
 ],
 "metadata": {
  "kernelspec": {
   "display_name": "Python 3",
   "language": "python",
   "name": "python3"
  },
  "language_info": {
   "codemirror_mode": {
    "name": "ipython",
    "version": 3
   },
   "file_extension": ".py",
   "mimetype": "text/x-python",
   "name": "python",
   "nbconvert_exporter": "python",
   "pygments_lexer": "ipython3",
   "version": "3.6.5"
  }
 },
 "nbformat": 4,
 "nbformat_minor": 2
}
