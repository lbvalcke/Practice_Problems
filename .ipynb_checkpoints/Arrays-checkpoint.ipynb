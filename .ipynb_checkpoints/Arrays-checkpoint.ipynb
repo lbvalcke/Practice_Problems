{
 "cells": [
  {
   "cell_type": "code",
   "execution_count": 36,
   "metadata": {},
   "outputs": [
    {
     "name": "stdout",
     "output_type": "stream",
     "text": [
      "7\n",
      "7 1 3 2 4 5 6\n",
      "5\n"
     ]
    }
   ],
   "source": [
    "#!/bin/python3\n",
    "\n",
    "import math\n",
    "import os\n",
    "import random\n",
    "import re\n",
    "import sys\n",
    "\n",
    "# Complete the minimumSwaps function below.\n",
    "def minimumSwaps(arr):\n",
    "    ref_arr = sorted(arr)\n",
    "    index_dict = {v: i for i,v in enumerate(arr)}\n",
    "    swaps = 0\n",
    "    \n",
    "    for i,v in enumerate(arr):\n",
    "        correct_value = ref_arr[i]\n",
    "        if v != correct_value:\n",
    "            to_swap_ix = index_dict[correct_value]\n",
    "            arr[to_swap_ix],arr[i] = arr[i], arr[to_swap_ix]\n",
    "            index_dict[v] = to_swap_ix\n",
    "            index_dict[correct_value] = i\n",
    "            swaps += 1\n",
    "            \n",
    "    return swaps                                 \n",
    "\n",
    "if __name__ == '__main__':\n",
    "#    fptr = open(os.environ['OUTPUT_PATH'], 'w')\n",
    "\n",
    "    n = int(input())\n",
    "\n",
    "    arr = list(map(int, input().rstrip().split()))\n",
    "\n",
    "    res = minimumSwaps(arr)\n",
    "    print(res)\n",
    "\n",
    "#    fptr.write(str(res) + '\\n')\n",
    "\n",
    "#    fptr.close()\n"
   ]
  },
  {
   "cell_type": "code",
   "execution_count": 49,
   "metadata": {},
   "outputs": [
    {
     "name": "stdout",
     "output_type": "stream",
     "text": [
      "10 3\n",
      "1 5 3\n",
      "4 8 7\n",
      "6 9 1\n",
      "[3, 0, 0, 0, 0, -3, 0, 0, 0, 0, 0]\n",
      "[3, 0, 0, 7, 0, -3, 0, 0, -7, 0, 0]\n",
      "[3, 0, 0, 7, 0, -2, 0, 0, -7, -1, 0]\n",
      "3\n",
      "10\n"
     ]
    }
   ],
   "source": [
    "#!/bin/python3\n",
    "\n",
    "import math\n",
    "import os\n",
    "import random\n",
    "import re\n",
    "import sys\n",
    "\n",
    "# Complete the arrayManipulation function below.\n",
    "def arrayManipulation(n, queries):\n",
    "    step_list = [0]*(n+1)\n",
    "    for query in queries:\n",
    "        x, y, incr = query\n",
    "        step_list[x-1] += incr\n",
    "        if y <= len(step_list): \n",
    "            step_list[y] -= incr\n",
    "    curr_max = 0 \n",
    "    x = 0\n",
    "    for i in step_list:\n",
    "        x=x+i;\n",
    "        if curr_max < x: \n",
    "            curr_max=x\n",
    "    return curr_max            \n",
    "    \n",
    "    \n",
    "if __name__ == '__main__':\n",
    "#    fptr = open(os.environ['OUTPUT_PATH'], 'w')\n",
    "\n",
    "    nm = input().split()\n",
    "\n",
    "    n = int(nm[0])\n",
    "\n",
    "    m = int(nm[1])\n",
    "\n",
    "    queries = []\n",
    "\n",
    "    for _ in range(m):\n",
    "        queries.append(list(map(int, input().rstrip().split())))\n",
    "\n",
    "    result = arrayManipulation(n, queries)\n",
    "\n",
    "#    fptr.write(str(result) + '\\n')\n",
    "\n",
    "#    fptr.close()\n"
   ]
  },
  {
   "cell_type": "code",
   "execution_count": null,
   "metadata": {},
   "outputs": [],
   "source": []
  }
 ],
 "metadata": {
  "kernelspec": {
   "display_name": "Python 3",
   "language": "python",
   "name": "python3"
  },
  "language_info": {
   "codemirror_mode": {
    "name": "ipython",
    "version": 3
   },
   "file_extension": ".py",
   "mimetype": "text/x-python",
   "name": "python",
   "nbconvert_exporter": "python",
   "pygments_lexer": "ipython3",
   "version": "3.6.5"
  }
 },
 "nbformat": 4,
 "nbformat_minor": 2
}
